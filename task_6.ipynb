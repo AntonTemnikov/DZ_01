{
 "cells": [
  {
   "cell_type": "code",
   "execution_count": null,
   "metadata": {},
   "outputs": [],
   "source": [
    "figure = str(input(\"Введите наименование фигуры: \"))\n",
    "\n",
    "if figure == \"треугольник\":\n",
    "    a = int(input(\"Введите сторону а: \"))\n",
    "    b = int(input(\"Введите сторону b: \"))\n",
    "    c = int(input(\"Введите сторону c: \"))\n",
    "    p = (a+b+c)/2\n",
    "    s = ((p*(p - a)*(p - b)*(p - c))**0.5)\n",
    "    \n",
    "if figure == \"прямоугольник\":\n",
    "    a = int(input(\"Введите сторону а: \"))\n",
    "    b = int(input(\"Введите сторону b: \"))\n",
    "    s = a*b\n",
    "    \n",
    "if figure == \"круг\":\n",
    "    r = int(input(\"Введите радиус: \"))\n",
    "    s = 3.14*(r**2)\n",
    "print(s)"
   ]
  },
  {
   "cell_type": "code",
   "execution_count": null,
   "metadata": {},
   "outputs": [],
   "source": []
  }
 ],
 "metadata": {
  "kernelspec": {
   "display_name": "Python 3",
   "language": "python",
   "name": "python3"
  },
  "language_info": {
   "codemirror_mode": {
    "name": "ipython",
    "version": 3
   },
   "file_extension": ".py",
   "mimetype": "text/x-python",
   "name": "python",
   "nbconvert_exporter": "python",
   "pygments_lexer": "ipython3",
   "version": "3.8.5"
  }
 },
 "nbformat": 4,
 "nbformat_minor": 4
}
