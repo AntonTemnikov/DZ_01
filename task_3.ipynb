{
 "cells": [
  {
   "cell_type": "code",
   "execution_count": null,
   "metadata": {
    "scrolled": true
   },
   "outputs": [],
   "source": [
    "date = int(input(\"Введите число рождения: \"))\n",
    "month = int(input(\"Введите месяц рождения: \"))\n",
    "\n",
    "\n",
    "if (month == 3 and 31 >= date >= 21) or (month == 4 and 20 >= date >= 1):\n",
    "    print('Ваш знак зодиака: Овен')\n",
    "if (month == 4 and 30 >= date >= 21) or (month == 5 and 21 >= date >= 1):\n",
    "    print('Ваш знак зодиака: Телец')\n",
    "if (month == 5 and 31 >= date >= 22) or (month == 6 and 21 >= date >= 1):\n",
    "    print('Ваш знак зодиака: Близнецы')\n",
    "if (month == 6 and 30 >= date >= 22) or (month == 7 and 22 >= date >= 1):\n",
    "    print('Ваш знак зодиака: Рак')\n",
    "if (month == 7 and 31 >= date >= 23) or (month == 8 and 23 >= date >= 1):\n",
    "    print('Ваш знак зодиака: Лев')\n",
    "if (month == 8 and 31 >= date >= 24) or (month == 9 and 22 >= date >= 1):\n",
    "    print('Ваш знак зодиака: Дева')\n",
    "if (month == 9 and 30 >= date >= 23) or (month == 10 and 22 >= date >= 1):\n",
    "    print('Ваш знак зодиака: Весы')\n",
    "if (month == 10 and 31 >= date >= 23) or (month == 11 and 22 >= date >= 1):\n",
    "    print('Ваш знак зодиака: Скорпион')\n",
    "if (month == 11 and 30 >= date >= 22) or (month == 12 and 21 >= date >= 1):\n",
    "    print('Ваш знак зодиака: Стрелец')\n",
    "if (month == 12 and 31 >= date >= 22) or (month == 1 and 20 >= date >= 1):\n",
    "    print('Ваш знак зодиака: Козерог')\n",
    "if (month == 1 and 31 >= date >= 21) or (month == 2 and 19 >= date >= 1):\n",
    "    print('Ваш знак зодиака: Водолей')\n",
    "if (month == 2 and 29 >= date >= 20) or (month == 3 and 20 >= date >= 1):\n",
    "    print('Ваш знак зодиака: Рыбы')"
   ]
  }
 ],
 "metadata": {
  "kernelspec": {
   "display_name": "Python 3",
   "language": "python",
   "name": "python3"
  },
  "language_info": {
   "codemirror_mode": {
    "name": "ipython",
    "version": 3
   },
   "file_extension": ".py",
   "mimetype": "text/x-python",
   "name": "python",
   "nbconvert_exporter": "python",
   "pygments_lexer": "ipython3",
   "version": "3.8.5"
  }
 },
 "nbformat": 4,
 "nbformat_minor": 4
}
