{
 "cells": [
  {
   "cell_type": "code",
   "execution_count": 11,
   "metadata": {},
   "outputs": [
    {
     "name": "stdout",
     "output_type": "stream",
     "text": [
      "Фраза 1 длиннее фразы 2\n"
     ]
    }
   ],
   "source": [
    "# Я сделал как Вы просили. Единственное, мне не понятно, в условии задачи значение phrase_1 и phrase_2 меняется.\n",
    "# Как это отобразить в коде? В моем варианте необходимо вручную задавать содержимое строки.\n",
    "\n",
    "phrase_1 = 'Насколько проще было бы писать программы, если бы не заказчики'\n",
    "phrase_2 = '640Кб должно хватить для любых задач. Билл Гейтс (по легенде)'\n",
    "\n",
    "if len(phrase_1) > len(phrase_2):\n",
    "    print(\"Фраза 1 длиннее фразы 2\")\n",
    "\n",
    "elif len(phrase_1) < len(phrase_2):\n",
    "    print(\"Фраза 2 длиннее фразы 1\")\n",
    "\n",
    "else:\n",
    "    print(\"Фразы равной длины\")"
   ]
  }
 ],
 "metadata": {
  "kernelspec": {
   "display_name": "Python 3",
   "language": "python",
   "name": "python3"
  },
  "language_info": {
   "codemirror_mode": {
    "name": "ipython",
    "version": 3
   },
   "file_extension": ".py",
   "mimetype": "text/x-python",
   "name": "python",
   "nbconvert_exporter": "python",
   "pygments_lexer": "ipython3",
   "version": "3.8.5"
  }
 },
 "nbformat": 4,
 "nbformat_minor": 4
}
