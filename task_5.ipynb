{
 "cells": [
  {
   "cell_type": "code",
   "execution_count": 9,
   "metadata": {},
   "outputs": [
    {
     "name": "stdout",
     "output_type": "stream",
     "text": [
      "Введите номер своего билета: 459687\n",
      "Не повезло...\n",
      "<class 'str'>\n"
     ]
    }
   ],
   "source": [
    "a, b, c, d, f, g = input(\"Введите номер своего билета: \")\n",
    "n = int(a) + int(b) + int(c)\n",
    "m = int(d) + int(f) + int(g)\n",
    "if n == m:\n",
    "    print(\"Билет счастливый!!!\")\n",
    "else:\n",
    "    print(\"Не повезло...\")\n",
    "print(type(a))"
   ]
  }
 ],
 "metadata": {
  "kernelspec": {
   "display_name": "Python 3",
   "language": "python",
   "name": "python3"
  },
  "language_info": {
   "codemirror_mode": {
    "name": "ipython",
    "version": 3
   },
   "file_extension": ".py",
   "mimetype": "text/x-python",
   "name": "python",
   "nbconvert_exporter": "python",
   "pygments_lexer": "ipython3",
   "version": "3.8.5"
  }
 },
 "nbformat": 4,
 "nbformat_minor": 4
}
