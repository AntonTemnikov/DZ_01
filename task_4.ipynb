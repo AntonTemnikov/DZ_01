{
 "cells": [
  {
   "cell_type": "code",
   "execution_count": 2,
   "metadata": {},
   "outputs": [
    {
     "name": "stdout",
     "output_type": "stream",
     "text": [
      "Введите ширину: 45\n",
      "Введите длину: 205\n",
      "Введите высоту: 45\n",
      "Упаковка для лыж\n"
     ]
    }
   ],
   "source": [
    "# По поводу этого задания, Вы указали на ошибку, при которой вывод не правильный.\n",
    "# Но у меня все работает верно, проверку проходит правильно... В чем проблема может быть?\n",
    "\n",
    "width = int(input('Введите ширину: '))\n",
    "length = int(input('Введите длину: '))\n",
    "height = int(input('Введите высоту: '))\n",
    "\n",
    "if (width <= 15 and length <= 15 and height <= 15):\n",
    "    print('Коробка №1')\n",
    "elif (50 <= width <= 15 or 50 <= length <= 15 or 50 <= height <= 15):\n",
    "    print('Коробка №2')\n",
    "elif length >= 200:\n",
    "    print('Упаковка для лыж')\n",
    "else:\n",
    "    print('Стандартная коробка №3')"
   ]
  }
 ],
 "metadata": {
  "kernelspec": {
   "display_name": "Python 3",
   "language": "python",
   "name": "python3"
  },
  "language_info": {
   "codemirror_mode": {
    "name": "ipython",
    "version": 3
   },
   "file_extension": ".py",
   "mimetype": "text/x-python",
   "name": "python",
   "nbconvert_exporter": "python",
   "pygments_lexer": "ipython3",
   "version": "3.8.5"
  }
 },
 "nbformat": 4,
 "nbformat_minor": 4
}
