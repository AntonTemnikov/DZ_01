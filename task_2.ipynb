{
 "cells": [
  {
   "cell_type": "code",
   "execution_count": 12,
   "metadata": {},
   "outputs": [
    {
     "name": "stdout",
     "output_type": "stream",
     "text": [
      "Год високосный\n",
      "End programm\n"
     ]
    }
   ],
   "source": [
    "year = 2020\n",
    "\n",
    "if year % 400 == 0:\n",
    "    print (\"Год висококсный\")\n",
    "elif year % 4 == 0:\n",
    "    print (\"Год високосный\")\n",
    "else :\n",
    "    print (\"Год не високосный\")\n",
    "print (\"End programm\")"
   ]
  }
 ],
 "metadata": {
  "kernelspec": {
   "display_name": "Python 3",
   "language": "python",
   "name": "python3"
  },
  "language_info": {
   "codemirror_mode": {
    "name": "ipython",
    "version": 3
   },
   "file_extension": ".py",
   "mimetype": "text/x-python",
   "name": "python",
   "nbconvert_exporter": "python",
   "pygments_lexer": "ipython3",
   "version": "3.8.5"
  }
 },
 "nbformat": 4,
 "nbformat_minor": 4
}
